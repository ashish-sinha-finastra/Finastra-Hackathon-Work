{
 "cells": [
  {
   "cell_type": "markdown",
   "metadata": {},
   "source": [
    "# 01. Preliminary analysis     \n",
    "\n",
    "This notebook is to do a preliminary analysis of the data."
   ]
  },
  {
   "cell_type": "markdown",
   "metadata": {},
   "source": [
    "### Imports"
   ]
  },
  {
   "cell_type": "code",
   "execution_count": 1,
   "metadata": {
    "ExecuteTime": {
     "end_time": "2020-10-29T11:03:34.265364Z",
     "start_time": "2020-10-29T11:03:33.760330Z"
    }
   },
   "outputs": [],
   "source": [
    "import pandas as pd"
   ]
  },
  {
   "cell_type": "markdown",
   "metadata": {},
   "source": [
    "### Variables"
   ]
  },
  {
   "cell_type": "code",
   "execution_count": 2,
   "metadata": {
    "ExecuteTime": {
     "end_time": "2020-10-29T11:03:34.270061Z",
     "start_time": "2020-10-29T11:03:34.265364Z"
    }
   },
   "outputs": [],
   "source": [
    "customer_demographics = '../Data/customer_demographics.xlsx'\n",
    "customer_loans        = '../Data/customer_loans.xlsx'\n",
    "customer_portfolio    = '../Data/customer_portfolio.xlsx'\n",
    "customer_transactions = '../Data/customer_transactions.xlsx'"
   ]
  },
  {
   "cell_type": "markdown",
   "metadata": {},
   "source": [
    "### Read Excel data files"
   ]
  },
  {
   "cell_type": "code",
   "execution_count": 3,
   "metadata": {
    "ExecuteTime": {
     "end_time": "2020-10-29T11:04:38.339659Z",
     "start_time": "2020-10-29T11:03:34.273070Z"
    }
   },
   "outputs": [],
   "source": [
    "pd_customer_demographics = pd.read_excel(customer_demographics)\n",
    "pd_customer_loans        = pd.read_excel(customer_loans)\n",
    "pd_customer_portfolio    = pd.read_excel(customer_portfolio)\n",
    "pd_customer_transactions = pd.read_excel(customer_transactions)"
   ]
  },
  {
   "cell_type": "code",
   "execution_count": 4,
   "metadata": {
    "ExecuteTime": {
     "end_time": "2020-10-29T11:04:38.443924Z",
     "start_time": "2020-10-29T11:04:38.342614Z"
    }
   },
   "outputs": [
    {
     "name": "stdout",
     "output_type": "stream",
     "text": [
      "pd_customer_demographics\n",
      "              custid           Age           Lat          Long         Income  \\\n",
      "count  4.842700e+04  48427.000000  48427.000000  48427.000000   48427.000000   \n",
      "mean   5.011043e+07     58.968509     37.843450    -92.137048  182892.674665   \n",
      "std    2.884022e+07     23.886030      5.311855     17.471952  256729.653035   \n",
      "min    2.684000e+03     18.000000     20.889530   -156.474320   10000.000000   \n",
      "25%    2.525330e+07     38.000000     33.764460   -104.228840   29018.500000   \n",
      "50%    5.003374e+07     59.000000     39.320110    -87.665610   48407.000000   \n",
      "75%    7.503263e+07     80.000000     41.577210    -77.557770  231794.000000   \n",
      "max    9.999981e+07    100.000000     47.805270    -69.965330  949942.000000   \n",
      "\n",
      "        CreditScore  HouseholdSize       ZipCode  MedianHomeValue  \\\n",
      "count  48427.000000   48427.000000  48427.000000     4.842700e+04   \n",
      "mean     700.479505       2.935408  50935.225618     2.324090e+05   \n",
      "std       64.881945       1.876389  31634.994093     1.566480e+05   \n",
      "min      620.000000       1.000000   1420.000000     4.860000e+04   \n",
      "25%      645.000000       2.000000  22630.000000     1.273000e+05   \n",
      "50%      667.000000       3.000000  48060.000000     1.901000e+05   \n",
      "75%      780.000000       4.000000  80128.000000     2.831000e+05   \n",
      "max      799.000000      10.000000  99216.000000     1.000001e+06   \n",
      "\n",
      "       MedianHouseholdIncome           Debt  \n",
      "count           48427.000000   48427.000000  \n",
      "mean            55794.026948   36802.268387  \n",
      "std             22615.043596   60675.888778  \n",
      "min             11368.000000       0.000000  \n",
      "25%             40751.000000   12851.560000  \n",
      "50%             50817.000000   22052.250000  \n",
      "75%             67970.000000   34402.530000  \n",
      "max            161848.000000  924099.820000  \n",
      "\n",
      "\n",
      "DF Shape\n",
      " (48427, 15)\n",
      "\n",
      "\n",
      "DF NULL values\n",
      " custid                   0\n",
      "Name                     0\n",
      "Job                      0\n",
      "Age                      0\n",
      "Lat                      0\n",
      "Long                     0\n",
      "Income                   0\n",
      "CreditScore              0\n",
      "HouseholdSize            0\n",
      "ZipCode                  0\n",
      "MajorCity                0\n",
      "State                    0\n",
      "MedianHomeValue          0\n",
      "MedianHouseholdIncome    0\n",
      "Debt                     0\n",
      "dtype: int64\n"
     ]
    }
   ],
   "source": [
    "print('pd_customer_demographics\\n', pd_customer_demographics.describe())\n",
    "print('\\n\\nDF Shape\\n', pd_customer_demographics.shape)\n",
    "print('\\n\\nDF NULL values\\n', pd_customer_demographics.isnull().sum())"
   ]
  },
  {
   "cell_type": "code",
   "execution_count": 5,
   "metadata": {
    "ExecuteTime": {
     "end_time": "2020-10-29T11:04:38.537402Z",
     "start_time": "2020-10-29T11:04:38.446930Z"
    }
   },
   "outputs": [
    {
     "name": "stdout",
     "output_type": "stream",
     "text": [
      "pd_customer_loans\n",
      "              custid         Income   CreditScore           Debt      LoanTerm  \\\n",
      "count  4.842700e+04   48427.000000  48427.000000   48427.000000  48427.000000   \n",
      "mean   5.011043e+07  182892.674665    700.479505   36802.268387    359.902121   \n",
      "std    2.884022e+07  256729.653035     64.881945   60675.888778    112.512956   \n",
      "min    2.684000e+03   10000.000000    620.000000       0.000000    180.000000   \n",
      "25%    2.525330e+07   29018.500000    645.000000   12851.560000    180.000000   \n",
      "50%    5.003374e+07   48407.000000    667.000000   22052.250000    420.000000   \n",
      "75%    7.503263e+07  231794.000000    780.000000   34402.530000    480.000000   \n",
      "max    9.999981e+07  949942.000000    799.000000  924099.820000    480.000000   \n",
      "\n",
      "       InterestRate  CreditIncidents     HomeValue    LoanAmount  \n",
      "count  48427.000000     48427.000000  4.842700e+04  4.842700e+04  \n",
      "mean       0.039988         2.578128  5.289217e+05  2.634072e+05  \n",
      "std        0.002915         1.844025  3.765134e+05  2.409933e+05  \n",
      "min        0.035000         0.000000  7.290000e+04  8.262000e+03  \n",
      "25%        0.037000         1.000000  2.776800e+05  1.063520e+05  \n",
      "50%        0.040000         2.000000  4.161500e+05  1.933200e+05  \n",
      "75%        0.043000         4.000000  6.460800e+05  3.346500e+05  \n",
      "max        0.045000         6.000000  3.000003e+06  2.700003e+06  \n",
      "\n",
      "\n",
      "DF Shape\n",
      " (48427, 12)\n",
      "\n",
      "\n",
      "DF NULL values\n",
      " custid             0\n",
      "Income             0\n",
      "CreditScore        0\n",
      "Debt               0\n",
      "Date               0\n",
      "LoanTerm           0\n",
      "InterestRate       0\n",
      "CreditIncidents    0\n",
      "HomeValue          0\n",
      "LoanAmount         0\n",
      "ProductType        0\n",
      "LoanStatus         0\n",
      "dtype: int64\n"
     ]
    }
   ],
   "source": [
    "print('pd_customer_loans\\n', pd_customer_loans.describe())\n",
    "print('\\n\\nDF Shape\\n', pd_customer_loans.shape)\n",
    "print('\\n\\nDF NULL values\\n', pd_customer_loans.isnull().sum())"
   ]
  },
  {
   "cell_type": "code",
   "execution_count": 6,
   "metadata": {
    "ExecuteTime": {
     "end_time": "2020-10-29T11:04:38.727593Z",
     "start_time": "2020-10-29T11:04:38.539907Z"
    }
   },
   "outputs": [
    {
     "name": "stdout",
     "output_type": "stream",
     "text": [
      "pd_customer_portfolio\n",
      "              custid     num_shares\n",
      "count  5.058270e+05  505827.000000\n",
      "mean   4.996269e+07     175.523005\n",
      "std    2.886348e+07     100.995720\n",
      "min    2.684000e+03       1.000000\n",
      "25%    2.508329e+07      88.000000\n",
      "50%    4.994195e+07     175.000000\n",
      "75%    7.479620e+07     263.000000\n",
      "max    9.999981e+07     350.000000\n",
      "\n",
      "\n",
      "DF Shape\n",
      " (505827, 6)\n",
      "\n",
      "\n",
      "DF NULL values\n",
      " custid           0\n",
      "num_shares       0\n",
      "purchase_date    0\n",
      "ticker           0\n",
      "name             0\n",
      "exchange         0\n",
      "dtype: int64\n"
     ]
    }
   ],
   "source": [
    "print('pd_customer_portfolio\\n', pd_customer_portfolio.describe())\n",
    "print('\\n\\nDF Shape\\n', pd_customer_portfolio.shape)\n",
    "print('\\n\\nDF NULL values\\n', pd_customer_portfolio.isnull().sum())"
   ]
  },
  {
   "cell_type": "code",
   "execution_count": 7,
   "metadata": {
    "ExecuteTime": {
     "end_time": "2020-10-29T11:04:38.813445Z",
     "start_time": "2020-10-29T11:04:38.729598Z"
    }
   },
   "outputs": [
    {
     "name": "stdout",
     "output_type": "stream",
     "text": [
      "pd_customer_transactions\n",
      "        HSTX_CDT_CUSTID  HSTX_DBT_CUSTID   HSTX_AMOUNT   HSTX_CDT_AMT  \\\n",
      "count     9.835200e+04     9.835200e+04  98352.000000   98352.000000   \n",
      "mean      1.686363e+11     1.687288e+11   6951.438141    7280.566874   \n",
      "std       2.905095e+11     2.907653e+11  17766.888497   18870.030093   \n",
      "min       2.684000e+03     2.684000e+03      0.030000       0.030000   \n",
      "25%       3.736178e+07     3.786238e+07    360.740000     371.815000   \n",
      "50%       7.499965e+07     7.511092e+07   1728.670000    1784.970000   \n",
      "75%       2.559275e+11     2.570988e+11   3757.462500    3872.079542   \n",
      "max       9.992671e+11     9.992671e+11  99994.980000  192615.873716   \n",
      "\n",
      "        HSTX_DBT_AMT  \n",
      "count   98352.000000  \n",
      "mean     7312.138421  \n",
      "std     19016.716658  \n",
      "min         0.030000  \n",
      "25%       371.535000  \n",
      "50%      1781.965000  \n",
      "75%      3872.852500  \n",
      "max    197987.913091  \n",
      "\n",
      "\n",
      "DF Shape\n",
      " (98352, 12)\n",
      "\n",
      "\n",
      "DF NULL values\n",
      " HSTX_CDT_CUSTID     0\n",
      "HSTX_DBT_CUSTID     0\n",
      "HSTX_TRANS_TYPE     0\n",
      "HSTX_VALUEDATE      0\n",
      "HSTX_AMOUNT         0\n",
      "HSTX_CDTAMT_CURR    0\n",
      "HSTX_DBTAMT_CURR    0\n",
      "HSTX_DIRECTION      0\n",
      "HSTX_PYMT_METH      0\n",
      "HSTX_CDT_AMT        0\n",
      "HSTX_DBT_AMT        0\n",
      "HSTX_MSGSTAT        0\n",
      "dtype: int64\n"
     ]
    }
   ],
   "source": [
    "print('pd_customer_transactions\\n', pd_customer_transactions.describe())\n",
    "print('\\n\\nDF Shape\\n', pd_customer_transactions.shape)\n",
    "print('\\n\\nDF NULL values\\n', pd_customer_transactions.isnull().sum())"
   ]
  }
 ],
 "metadata": {
  "kernelspec": {
   "display_name": "Python 3",
   "language": "python",
   "name": "python3"
  },
  "language_info": {
   "codemirror_mode": {
    "name": "ipython",
    "version": 3
   },
   "file_extension": ".py",
   "mimetype": "text/x-python",
   "name": "python",
   "nbconvert_exporter": "python",
   "pygments_lexer": "ipython3",
   "version": "3.8.3"
  },
  "latex_envs": {
   "LaTeX_envs_menu_present": true,
   "autoclose": false,
   "autocomplete": true,
   "bibliofile": "biblio.bib",
   "cite_by": "apalike",
   "current_citInitial": 1,
   "eqLabelWithNumbers": true,
   "eqNumInitial": 1,
   "hotkeys": {
    "equation": "Ctrl-E",
    "itemize": "Ctrl-I"
   },
   "labels_anchors": false,
   "latex_user_defs": false,
   "report_style_numbering": false,
   "user_envs_cfg": false
  }
 },
 "nbformat": 4,
 "nbformat_minor": 4
}
